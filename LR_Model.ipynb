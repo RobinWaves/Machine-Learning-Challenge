{
 "cells": [
  {
   "cell_type": "markdown",
   "metadata": {},
   "source": [
    "# Model 1 Logistic Regression"
   ]
  },
  {
   "cell_type": "code",
   "execution_count": 1,
   "metadata": {},
   "outputs": [
    {
     "name": "stdout",
     "output_type": "stream",
     "text": [
      "Requirement already satisfied: sklearn in c:\\users\\robin\\anaconda3\\envs\\pythonadv\\lib\\site-packages (0.0)\n",
      "Requirement already satisfied: scikit-learn in c:\\users\\robin\\anaconda3\\envs\\pythonadv\\lib\\site-packages (from sklearn) (0.24.2)\n",
      "Requirement already satisfied: joblib>=0.11 in c:\\users\\robin\\anaconda3\\envs\\pythonadv\\lib\\site-packages (from scikit-learn->sklearn) (1.0.1)\n",
      "Requirement already satisfied: threadpoolctl>=2.0.0 in c:\\users\\robin\\anaconda3\\envs\\pythonadv\\lib\\site-packages (from scikit-learn->sklearn) (2.2.0)\n",
      "Requirement already satisfied: numpy>=1.13.3 in c:\\users\\robin\\anaconda3\\envs\\pythonadv\\lib\\site-packages (from scikit-learn->sklearn) (1.19.2)\n",
      "Requirement already satisfied: scipy>=0.19.1 in c:\\users\\robin\\anaconda3\\envs\\pythonadv\\lib\\site-packages (from scikit-learn->sklearn) (1.5.2)\n"
     ]
    }
   ],
   "source": [
    "# Update sklearn to prevent version mismatches\n",
    "!pip install sklearn --upgrade"
   ]
  },
  {
   "cell_type": "code",
   "execution_count": 2,
   "metadata": {},
   "outputs": [
    {
     "name": "stdout",
     "output_type": "stream",
     "text": [
      "Requirement already satisfied: joblib in c:\\users\\robin\\anaconda3\\envs\\pythonadv\\lib\\site-packages (1.0.1)\n"
     ]
    }
   ],
   "source": [
    "# install joblib. This will be used to save your model. \n",
    "# Restart your kernel after installing \n",
    "!pip install joblib"
   ]
  },
  {
   "cell_type": "code",
   "execution_count": 3,
   "metadata": {},
   "outputs": [],
   "source": [
    "import pandas as pd"
   ]
  },
  {
   "cell_type": "markdown",
   "metadata": {},
   "source": [
    "## Read the CSV and Perform Basic Data Cleaning"
   ]
  },
  {
   "cell_type": "code",
   "execution_count": 4,
   "metadata": {},
   "outputs": [
    {
     "data": {
      "text/html": [
       "<div>\n",
       "<style scoped>\n",
       "    .dataframe tbody tr th:only-of-type {\n",
       "        vertical-align: middle;\n",
       "    }\n",
       "\n",
       "    .dataframe tbody tr th {\n",
       "        vertical-align: top;\n",
       "    }\n",
       "\n",
       "    .dataframe thead th {\n",
       "        text-align: right;\n",
       "    }\n",
       "</style>\n",
       "<table border=\"1\" class=\"dataframe\">\n",
       "  <thead>\n",
       "    <tr style=\"text-align: right;\">\n",
       "      <th></th>\n",
       "      <th>koi_disposition</th>\n",
       "      <th>koi_fpflag_nt</th>\n",
       "      <th>koi_fpflag_ss</th>\n",
       "      <th>koi_fpflag_co</th>\n",
       "      <th>koi_fpflag_ec</th>\n",
       "      <th>koi_period</th>\n",
       "      <th>koi_period_err1</th>\n",
       "      <th>koi_period_err2</th>\n",
       "      <th>koi_time0bk</th>\n",
       "      <th>koi_time0bk_err1</th>\n",
       "      <th>...</th>\n",
       "      <th>koi_steff_err2</th>\n",
       "      <th>koi_slogg</th>\n",
       "      <th>koi_slogg_err1</th>\n",
       "      <th>koi_slogg_err2</th>\n",
       "      <th>koi_srad</th>\n",
       "      <th>koi_srad_err1</th>\n",
       "      <th>koi_srad_err2</th>\n",
       "      <th>ra</th>\n",
       "      <th>dec</th>\n",
       "      <th>koi_kepmag</th>\n",
       "    </tr>\n",
       "  </thead>\n",
       "  <tbody>\n",
       "    <tr>\n",
       "      <th>0</th>\n",
       "      <td>CONFIRMED</td>\n",
       "      <td>0</td>\n",
       "      <td>0</td>\n",
       "      <td>0</td>\n",
       "      <td>0</td>\n",
       "      <td>54.418383</td>\n",
       "      <td>2.479000e-04</td>\n",
       "      <td>-2.479000e-04</td>\n",
       "      <td>162.513840</td>\n",
       "      <td>0.003520</td>\n",
       "      <td>...</td>\n",
       "      <td>-81</td>\n",
       "      <td>4.467</td>\n",
       "      <td>0.064</td>\n",
       "      <td>-0.096</td>\n",
       "      <td>0.927</td>\n",
       "      <td>0.105</td>\n",
       "      <td>-0.061</td>\n",
       "      <td>291.93423</td>\n",
       "      <td>48.141651</td>\n",
       "      <td>15.347</td>\n",
       "    </tr>\n",
       "    <tr>\n",
       "      <th>1</th>\n",
       "      <td>FALSE POSITIVE</td>\n",
       "      <td>0</td>\n",
       "      <td>1</td>\n",
       "      <td>0</td>\n",
       "      <td>0</td>\n",
       "      <td>19.899140</td>\n",
       "      <td>1.490000e-05</td>\n",
       "      <td>-1.490000e-05</td>\n",
       "      <td>175.850252</td>\n",
       "      <td>0.000581</td>\n",
       "      <td>...</td>\n",
       "      <td>-176</td>\n",
       "      <td>4.544</td>\n",
       "      <td>0.044</td>\n",
       "      <td>-0.176</td>\n",
       "      <td>0.868</td>\n",
       "      <td>0.233</td>\n",
       "      <td>-0.078</td>\n",
       "      <td>297.00482</td>\n",
       "      <td>48.134129</td>\n",
       "      <td>15.436</td>\n",
       "    </tr>\n",
       "    <tr>\n",
       "      <th>2</th>\n",
       "      <td>FALSE POSITIVE</td>\n",
       "      <td>0</td>\n",
       "      <td>1</td>\n",
       "      <td>0</td>\n",
       "      <td>0</td>\n",
       "      <td>1.736952</td>\n",
       "      <td>2.630000e-07</td>\n",
       "      <td>-2.630000e-07</td>\n",
       "      <td>170.307565</td>\n",
       "      <td>0.000115</td>\n",
       "      <td>...</td>\n",
       "      <td>-174</td>\n",
       "      <td>4.564</td>\n",
       "      <td>0.053</td>\n",
       "      <td>-0.168</td>\n",
       "      <td>0.791</td>\n",
       "      <td>0.201</td>\n",
       "      <td>-0.067</td>\n",
       "      <td>285.53461</td>\n",
       "      <td>48.285210</td>\n",
       "      <td>15.597</td>\n",
       "    </tr>\n",
       "    <tr>\n",
       "      <th>3</th>\n",
       "      <td>CONFIRMED</td>\n",
       "      <td>0</td>\n",
       "      <td>0</td>\n",
       "      <td>0</td>\n",
       "      <td>0</td>\n",
       "      <td>2.525592</td>\n",
       "      <td>3.760000e-06</td>\n",
       "      <td>-3.760000e-06</td>\n",
       "      <td>171.595550</td>\n",
       "      <td>0.001130</td>\n",
       "      <td>...</td>\n",
       "      <td>-211</td>\n",
       "      <td>4.438</td>\n",
       "      <td>0.070</td>\n",
       "      <td>-0.210</td>\n",
       "      <td>1.046</td>\n",
       "      <td>0.334</td>\n",
       "      <td>-0.133</td>\n",
       "      <td>288.75488</td>\n",
       "      <td>48.226200</td>\n",
       "      <td>15.509</td>\n",
       "    </tr>\n",
       "    <tr>\n",
       "      <th>4</th>\n",
       "      <td>CONFIRMED</td>\n",
       "      <td>0</td>\n",
       "      <td>0</td>\n",
       "      <td>0</td>\n",
       "      <td>0</td>\n",
       "      <td>4.134435</td>\n",
       "      <td>1.050000e-05</td>\n",
       "      <td>-1.050000e-05</td>\n",
       "      <td>172.979370</td>\n",
       "      <td>0.001900</td>\n",
       "      <td>...</td>\n",
       "      <td>-232</td>\n",
       "      <td>4.486</td>\n",
       "      <td>0.054</td>\n",
       "      <td>-0.229</td>\n",
       "      <td>0.972</td>\n",
       "      <td>0.315</td>\n",
       "      <td>-0.105</td>\n",
       "      <td>296.28613</td>\n",
       "      <td>48.224670</td>\n",
       "      <td>15.714</td>\n",
       "    </tr>\n",
       "  </tbody>\n",
       "</table>\n",
       "<p>5 rows × 41 columns</p>\n",
       "</div>"
      ],
      "text/plain": [
       "  koi_disposition  koi_fpflag_nt  koi_fpflag_ss  koi_fpflag_co  koi_fpflag_ec  \\\n",
       "0       CONFIRMED              0              0              0              0   \n",
       "1  FALSE POSITIVE              0              1              0              0   \n",
       "2  FALSE POSITIVE              0              1              0              0   \n",
       "3       CONFIRMED              0              0              0              0   \n",
       "4       CONFIRMED              0              0              0              0   \n",
       "\n",
       "   koi_period  koi_period_err1  koi_period_err2  koi_time0bk  \\\n",
       "0   54.418383     2.479000e-04    -2.479000e-04   162.513840   \n",
       "1   19.899140     1.490000e-05    -1.490000e-05   175.850252   \n",
       "2    1.736952     2.630000e-07    -2.630000e-07   170.307565   \n",
       "3    2.525592     3.760000e-06    -3.760000e-06   171.595550   \n",
       "4    4.134435     1.050000e-05    -1.050000e-05   172.979370   \n",
       "\n",
       "   koi_time0bk_err1  ...  koi_steff_err2  koi_slogg  koi_slogg_err1  \\\n",
       "0          0.003520  ...             -81      4.467           0.064   \n",
       "1          0.000581  ...            -176      4.544           0.044   \n",
       "2          0.000115  ...            -174      4.564           0.053   \n",
       "3          0.001130  ...            -211      4.438           0.070   \n",
       "4          0.001900  ...            -232      4.486           0.054   \n",
       "\n",
       "   koi_slogg_err2  koi_srad  koi_srad_err1  koi_srad_err2         ra  \\\n",
       "0          -0.096     0.927          0.105         -0.061  291.93423   \n",
       "1          -0.176     0.868          0.233         -0.078  297.00482   \n",
       "2          -0.168     0.791          0.201         -0.067  285.53461   \n",
       "3          -0.210     1.046          0.334         -0.133  288.75488   \n",
       "4          -0.229     0.972          0.315         -0.105  296.28613   \n",
       "\n",
       "         dec  koi_kepmag  \n",
       "0  48.141651      15.347  \n",
       "1  48.134129      15.436  \n",
       "2  48.285210      15.597  \n",
       "3  48.226200      15.509  \n",
       "4  48.224670      15.714  \n",
       "\n",
       "[5 rows x 41 columns]"
      ]
     },
     "execution_count": 4,
     "metadata": {},
     "output_type": "execute_result"
    }
   ],
   "source": [
    "df = pd.read_csv(\"Resources/exoplanet_data.csv\")\n",
    "# Drop the null columns where all values are null\n",
    "df = df.dropna(axis='columns', how='all')\n",
    "# Drop the null rows\n",
    "df = df.dropna()\n",
    "df.head()"
   ]
  },
  {
   "cell_type": "markdown",
   "metadata": {},
   "source": [
    "## Select your features (columns)"
   ]
  },
  {
   "cell_type": "code",
   "execution_count": 5,
   "metadata": {},
   "outputs": [
    {
     "data": {
      "text/plain": [
       "Index(['koi_disposition', 'koi_fpflag_nt', 'koi_fpflag_ss', 'koi_fpflag_co',\n",
       "       'koi_fpflag_ec', 'koi_period', 'koi_period_err1', 'koi_period_err2',\n",
       "       'koi_time0bk', 'koi_time0bk_err1', 'koi_time0bk_err2', 'koi_impact',\n",
       "       'koi_impact_err1', 'koi_impact_err2', 'koi_duration',\n",
       "       'koi_duration_err1', 'koi_duration_err2', 'koi_depth', 'koi_depth_err1',\n",
       "       'koi_depth_err2', 'koi_prad', 'koi_prad_err1', 'koi_prad_err2',\n",
       "       'koi_teq', 'koi_insol', 'koi_insol_err1', 'koi_insol_err2',\n",
       "       'koi_model_snr', 'koi_tce_plnt_num', 'koi_steff', 'koi_steff_err1',\n",
       "       'koi_steff_err2', 'koi_slogg', 'koi_slogg_err1', 'koi_slogg_err2',\n",
       "       'koi_srad', 'koi_srad_err1', 'koi_srad_err2', 'ra', 'dec',\n",
       "       'koi_kepmag'],\n",
       "      dtype='object')"
      ]
     },
     "execution_count": 5,
     "metadata": {},
     "output_type": "execute_result"
    }
   ],
   "source": [
    "df.columns"
   ]
  },
  {
   "cell_type": "code",
   "execution_count": 6,
   "metadata": {},
   "outputs": [
    {
     "name": "stdout",
     "output_type": "stream",
     "text": [
      "(6991, 19) (6991,)\n"
     ]
    }
   ],
   "source": [
    "# Get rid of unnecessary columns (columns that are not independently measured)\n",
    "# Set features. This will also be used as your x values.\n",
    "# Assign X (data) and y (target)\n",
    "\n",
    "X = df[['koi_fpflag_nt', 'koi_fpflag_ss', 'koi_fpflag_co', 'koi_fpflag_ec', \n",
    "         'koi_period', 'koi_time0bk', 'koi_impact', 'koi_duration', \n",
    "         'koi_depth', 'koi_prad', 'koi_teq', 'koi_insol', \n",
    "         'koi_model_snr', 'koi_steff', 'koi_slogg', 'koi_srad', \n",
    "         'ra', 'dec', 'koi_kepmag']]\n",
    "feature_names = X.columns\n",
    "\n",
    "y = df['koi_disposition']\n",
    "\n",
    "print(X.shape, y.shape)"
   ]
  },
  {
   "cell_type": "markdown",
   "metadata": {},
   "source": [
    "## Create a Train Test Split\n",
    "\n",
    "Use `koi_disposition` for the y values"
   ]
  },
  {
   "cell_type": "code",
   "execution_count": 7,
   "metadata": {},
   "outputs": [],
   "source": [
    "from sklearn.model_selection import train_test_split\n",
    "\n",
    "X_train, X_test, y_train, y_test = train_test_split(X, y, random_state=42)"
   ]
  },
  {
   "cell_type": "code",
   "execution_count": 8,
   "metadata": {},
   "outputs": [
    {
     "data": {
      "text/html": [
       "<div>\n",
       "<style scoped>\n",
       "    .dataframe tbody tr th:only-of-type {\n",
       "        vertical-align: middle;\n",
       "    }\n",
       "\n",
       "    .dataframe tbody tr th {\n",
       "        vertical-align: top;\n",
       "    }\n",
       "\n",
       "    .dataframe thead th {\n",
       "        text-align: right;\n",
       "    }\n",
       "</style>\n",
       "<table border=\"1\" class=\"dataframe\">\n",
       "  <thead>\n",
       "    <tr style=\"text-align: right;\">\n",
       "      <th></th>\n",
       "      <th>koi_fpflag_nt</th>\n",
       "      <th>koi_fpflag_ss</th>\n",
       "      <th>koi_fpflag_co</th>\n",
       "      <th>koi_fpflag_ec</th>\n",
       "      <th>koi_period</th>\n",
       "      <th>koi_time0bk</th>\n",
       "      <th>koi_impact</th>\n",
       "      <th>koi_duration</th>\n",
       "      <th>koi_depth</th>\n",
       "      <th>koi_prad</th>\n",
       "      <th>koi_teq</th>\n",
       "      <th>koi_insol</th>\n",
       "      <th>koi_model_snr</th>\n",
       "      <th>koi_steff</th>\n",
       "      <th>koi_slogg</th>\n",
       "      <th>koi_srad</th>\n",
       "      <th>ra</th>\n",
       "      <th>dec</th>\n",
       "      <th>koi_kepmag</th>\n",
       "    </tr>\n",
       "  </thead>\n",
       "  <tbody>\n",
       "    <tr>\n",
       "      <th>6122</th>\n",
       "      <td>0</td>\n",
       "      <td>0</td>\n",
       "      <td>0</td>\n",
       "      <td>0</td>\n",
       "      <td>6.768901</td>\n",
       "      <td>133.077240</td>\n",
       "      <td>0.150</td>\n",
       "      <td>3.61600</td>\n",
       "      <td>123.1</td>\n",
       "      <td>1.24</td>\n",
       "      <td>1017</td>\n",
       "      <td>253.30</td>\n",
       "      <td>10.8</td>\n",
       "      <td>5737</td>\n",
       "      <td>4.327</td>\n",
       "      <td>1.125</td>\n",
       "      <td>294.40472</td>\n",
       "      <td>39.351681</td>\n",
       "      <td>14.725</td>\n",
       "    </tr>\n",
       "    <tr>\n",
       "      <th>6370</th>\n",
       "      <td>0</td>\n",
       "      <td>1</td>\n",
       "      <td>0</td>\n",
       "      <td>1</td>\n",
       "      <td>0.733726</td>\n",
       "      <td>132.020050</td>\n",
       "      <td>0.291</td>\n",
       "      <td>2.30900</td>\n",
       "      <td>114.6</td>\n",
       "      <td>0.86</td>\n",
       "      <td>1867</td>\n",
       "      <td>2891.64</td>\n",
       "      <td>13.8</td>\n",
       "      <td>5855</td>\n",
       "      <td>4.578</td>\n",
       "      <td>0.797</td>\n",
       "      <td>284.50391</td>\n",
       "      <td>42.463860</td>\n",
       "      <td>15.770</td>\n",
       "    </tr>\n",
       "    <tr>\n",
       "      <th>2879</th>\n",
       "      <td>1</td>\n",
       "      <td>0</td>\n",
       "      <td>0</td>\n",
       "      <td>0</td>\n",
       "      <td>7.652707</td>\n",
       "      <td>134.460380</td>\n",
       "      <td>0.970</td>\n",
       "      <td>79.89690</td>\n",
       "      <td>641.1</td>\n",
       "      <td>3.21</td>\n",
       "      <td>989</td>\n",
       "      <td>226.81</td>\n",
       "      <td>254.3</td>\n",
       "      <td>6328</td>\n",
       "      <td>4.481</td>\n",
       "      <td>0.963</td>\n",
       "      <td>295.50211</td>\n",
       "      <td>38.983540</td>\n",
       "      <td>13.099</td>\n",
       "    </tr>\n",
       "    <tr>\n",
       "      <th>107</th>\n",
       "      <td>0</td>\n",
       "      <td>0</td>\n",
       "      <td>0</td>\n",
       "      <td>0</td>\n",
       "      <td>7.953547</td>\n",
       "      <td>174.662240</td>\n",
       "      <td>0.300</td>\n",
       "      <td>2.63120</td>\n",
       "      <td>875.4</td>\n",
       "      <td>2.25</td>\n",
       "      <td>696</td>\n",
       "      <td>55.37</td>\n",
       "      <td>38.4</td>\n",
       "      <td>4768</td>\n",
       "      <td>4.536</td>\n",
       "      <td>0.779</td>\n",
       "      <td>291.15878</td>\n",
       "      <td>40.750271</td>\n",
       "      <td>15.660</td>\n",
       "    </tr>\n",
       "    <tr>\n",
       "      <th>29</th>\n",
       "      <td>0</td>\n",
       "      <td>0</td>\n",
       "      <td>0</td>\n",
       "      <td>0</td>\n",
       "      <td>4.959319</td>\n",
       "      <td>172.258529</td>\n",
       "      <td>0.831</td>\n",
       "      <td>2.22739</td>\n",
       "      <td>9802.0</td>\n",
       "      <td>12.21</td>\n",
       "      <td>1103</td>\n",
       "      <td>349.40</td>\n",
       "      <td>696.5</td>\n",
       "      <td>5712</td>\n",
       "      <td>4.359</td>\n",
       "      <td>1.082</td>\n",
       "      <td>292.16705</td>\n",
       "      <td>48.727589</td>\n",
       "      <td>15.263</td>\n",
       "    </tr>\n",
       "  </tbody>\n",
       "</table>\n",
       "</div>"
      ],
      "text/plain": [
       "      koi_fpflag_nt  koi_fpflag_ss  koi_fpflag_co  koi_fpflag_ec  koi_period  \\\n",
       "6122              0              0              0              0    6.768901   \n",
       "6370              0              1              0              1    0.733726   \n",
       "2879              1              0              0              0    7.652707   \n",
       "107               0              0              0              0    7.953547   \n",
       "29                0              0              0              0    4.959319   \n",
       "\n",
       "      koi_time0bk  koi_impact  koi_duration  koi_depth  koi_prad  koi_teq  \\\n",
       "6122   133.077240       0.150       3.61600      123.1      1.24     1017   \n",
       "6370   132.020050       0.291       2.30900      114.6      0.86     1867   \n",
       "2879   134.460380       0.970      79.89690      641.1      3.21      989   \n",
       "107    174.662240       0.300       2.63120      875.4      2.25      696   \n",
       "29     172.258529       0.831       2.22739     9802.0     12.21     1103   \n",
       "\n",
       "      koi_insol  koi_model_snr  koi_steff  koi_slogg  koi_srad         ra  \\\n",
       "6122     253.30           10.8       5737      4.327     1.125  294.40472   \n",
       "6370    2891.64           13.8       5855      4.578     0.797  284.50391   \n",
       "2879     226.81          254.3       6328      4.481     0.963  295.50211   \n",
       "107       55.37           38.4       4768      4.536     0.779  291.15878   \n",
       "29       349.40          696.5       5712      4.359     1.082  292.16705   \n",
       "\n",
       "            dec  koi_kepmag  \n",
       "6122  39.351681      14.725  \n",
       "6370  42.463860      15.770  \n",
       "2879  38.983540      13.099  \n",
       "107   40.750271      15.660  \n",
       "29    48.727589      15.263  "
      ]
     },
     "execution_count": 8,
     "metadata": {},
     "output_type": "execute_result"
    }
   ],
   "source": [
    "X_train.head()"
   ]
  },
  {
   "cell_type": "markdown",
   "metadata": {},
   "source": [
    "## Pre-processing\n",
    "\n",
    "Scale the data using the MinMaxScaler and encode y "
   ]
  },
  {
   "cell_type": "code",
   "execution_count": 9,
   "metadata": {},
   "outputs": [],
   "source": [
    "from sklearn.preprocessing import LabelEncoder, MinMaxScaler\n",
    "\n",
    "# Scale your data\n",
    "X_scaler = MinMaxScaler().fit(X_train)\n",
    "X_train_scaled = X_scaler.transform(X_train)\n",
    "X_test_scaled = X_scaler.transform(X_test)\n",
    "\n",
    "# Label-encode data set\n",
    "label_encoder = LabelEncoder()\n",
    "label_encoder.fit(y_train)\n",
    "encoded_y_train = label_encoder.transform(y_train)\n",
    "encoded_y_test = label_encoder.transform(y_test)"
   ]
  },
  {
   "cell_type": "markdown",
   "metadata": {},
   "source": [
    "## Create and Fit the Model"
   ]
  },
  {
   "cell_type": "code",
   "execution_count": 10,
   "metadata": {},
   "outputs": [
    {
     "data": {
      "text/plain": [
       "LogisticRegression(max_iter=400)"
      ]
     },
     "execution_count": 10,
     "metadata": {},
     "output_type": "execute_result"
    }
   ],
   "source": [
    "from sklearn.linear_model import LogisticRegression\n",
    "\n",
    "model = LogisticRegression(max_iter=400)\n",
    "model.fit(X_train_scaled, encoded_y_train)"
   ]
  },
  {
   "cell_type": "code",
   "execution_count": 11,
   "metadata": {},
   "outputs": [
    {
     "data": {
      "text/plain": [
       "[(1.958257835060407, 'koi_period'),\n",
       " (1.540390215928863, 'koi_teq'),\n",
       " (1.0224962884956725, 'koi_steff'),\n",
       " (0.7399855200669825, 'koi_kepmag'),\n",
       " (0.26246151310040844, 'koi_srad'),\n",
       " (0.24884200133506224, 'koi_impact'),\n",
       " (0.013424671764430973, 'ra'),\n",
       " (0.005121513293016564, 'koi_insol'),\n",
       " (-0.021980462490128402, 'koi_prad'),\n",
       " (-0.29982402711266704, 'dec'),\n",
       " (-0.323150579714172, 'koi_depth'),\n",
       " (-0.9083390133710603, 'koi_time0bk'),\n",
       " (-1.0152564741335015, 'koi_slogg'),\n",
       " (-1.2885940416413404, 'koi_duration'),\n",
       " (-2.351537840563986, 'koi_fpflag_ss'),\n",
       " (-2.4876680949749357, 'koi_fpflag_ec'),\n",
       " (-2.828942264964922, 'koi_model_snr'),\n",
       " (-3.110771771348206, 'koi_fpflag_co'),\n",
       " (-3.6807594328285647, 'koi_fpflag_nt')]"
      ]
     },
     "execution_count": 11,
     "metadata": {},
     "output_type": "execute_result"
    }
   ],
   "source": [
    "# get importance\n",
    "importance = model.coef_[0]\n",
    "impt = []\n",
    "# summarize feature importance\n",
    "for i,v in enumerate(importance):\n",
    "    impt.append(v)\n",
    "sorted(zip(impt, X.columns), reverse=True)"
   ]
  },
  {
   "cell_type": "code",
   "execution_count": 12,
   "metadata": {},
   "outputs": [
    {
     "data": {
      "text/html": [
       "<div>\n",
       "<style scoped>\n",
       "    .dataframe tbody tr th:only-of-type {\n",
       "        vertical-align: middle;\n",
       "    }\n",
       "\n",
       "    .dataframe tbody tr th {\n",
       "        vertical-align: top;\n",
       "    }\n",
       "\n",
       "    .dataframe thead th {\n",
       "        text-align: right;\n",
       "    }\n",
       "</style>\n",
       "<table border=\"1\" class=\"dataframe\">\n",
       "  <thead>\n",
       "    <tr style=\"text-align: right;\">\n",
       "      <th></th>\n",
       "      <th>koi_period</th>\n",
       "      <th>koi_teq</th>\n",
       "      <th>koi_steff</th>\n",
       "      <th>koi_kepmag</th>\n",
       "      <th>koi_srad</th>\n",
       "      <th>koi_fpflag_ss</th>\n",
       "      <th>koi_fpflag_ec</th>\n",
       "      <th>koi_model_snr</th>\n",
       "      <th>koi_fpflag_co</th>\n",
       "      <th>koi_fpflag_nt</th>\n",
       "    </tr>\n",
       "  </thead>\n",
       "  <tbody>\n",
       "    <tr>\n",
       "      <th>0</th>\n",
       "      <td>54.418383</td>\n",
       "      <td>443</td>\n",
       "      <td>5455</td>\n",
       "      <td>15.347</td>\n",
       "      <td>0.927</td>\n",
       "      <td>0</td>\n",
       "      <td>0</td>\n",
       "      <td>25.8</td>\n",
       "      <td>0</td>\n",
       "      <td>0</td>\n",
       "    </tr>\n",
       "    <tr>\n",
       "      <th>1</th>\n",
       "      <td>19.899140</td>\n",
       "      <td>638</td>\n",
       "      <td>5853</td>\n",
       "      <td>15.436</td>\n",
       "      <td>0.868</td>\n",
       "      <td>1</td>\n",
       "      <td>0</td>\n",
       "      <td>76.3</td>\n",
       "      <td>0</td>\n",
       "      <td>0</td>\n",
       "    </tr>\n",
       "    <tr>\n",
       "      <th>2</th>\n",
       "      <td>1.736952</td>\n",
       "      <td>1395</td>\n",
       "      <td>5805</td>\n",
       "      <td>15.597</td>\n",
       "      <td>0.791</td>\n",
       "      <td>1</td>\n",
       "      <td>0</td>\n",
       "      <td>505.6</td>\n",
       "      <td>0</td>\n",
       "      <td>0</td>\n",
       "    </tr>\n",
       "    <tr>\n",
       "      <th>3</th>\n",
       "      <td>2.525592</td>\n",
       "      <td>1406</td>\n",
       "      <td>6031</td>\n",
       "      <td>15.509</td>\n",
       "      <td>1.046</td>\n",
       "      <td>0</td>\n",
       "      <td>0</td>\n",
       "      <td>40.9</td>\n",
       "      <td>0</td>\n",
       "      <td>0</td>\n",
       "    </tr>\n",
       "    <tr>\n",
       "      <th>4</th>\n",
       "      <td>4.134435</td>\n",
       "      <td>1160</td>\n",
       "      <td>6046</td>\n",
       "      <td>15.714</td>\n",
       "      <td>0.972</td>\n",
       "      <td>0</td>\n",
       "      <td>0</td>\n",
       "      <td>40.2</td>\n",
       "      <td>0</td>\n",
       "      <td>0</td>\n",
       "    </tr>\n",
       "  </tbody>\n",
       "</table>\n",
       "</div>"
      ],
      "text/plain": [
       "   koi_period  koi_teq  koi_steff  koi_kepmag  koi_srad  koi_fpflag_ss  \\\n",
       "0   54.418383      443       5455      15.347     0.927              0   \n",
       "1   19.899140      638       5853      15.436     0.868              1   \n",
       "2    1.736952     1395       5805      15.597     0.791              1   \n",
       "3    2.525592     1406       6031      15.509     1.046              0   \n",
       "4    4.134435     1160       6046      15.714     0.972              0   \n",
       "\n",
       "   koi_fpflag_ec  koi_model_snr  koi_fpflag_co  koi_fpflag_nt  \n",
       "0              0           25.8              0              0  \n",
       "1              0           76.3              0              0  \n",
       "2              0          505.6              0              0  \n",
       "3              0           40.9              0              0  \n",
       "4              0           40.2              0              0  "
      ]
     },
     "execution_count": 12,
     "metadata": {},
     "output_type": "execute_result"
    }
   ],
   "source": [
    "# Set significant features - those furthest from 0\n",
    "\n",
    "X = X[['koi_period', 'koi_teq', 'koi_steff', 'koi_kepmag', \n",
    "       'koi_srad', 'koi_fpflag_ss', 'koi_fpflag_ec', 'koi_model_snr', \n",
    "       'koi_fpflag_co', 'koi_fpflag_nt']]\n",
    "           \n",
    "feature_names = X.columns\n",
    "X.head()"
   ]
  },
  {
   "cell_type": "markdown",
   "metadata": {},
   "source": [
    "## Train the Model"
   ]
  },
  {
   "cell_type": "code",
   "execution_count": 13,
   "metadata": {},
   "outputs": [
    {
     "data": {
      "text/plain": [
       "LogisticRegression(max_iter=400)"
      ]
     },
     "execution_count": 13,
     "metadata": {},
     "output_type": "execute_result"
    }
   ],
   "source": [
    "# Recreate train test split\n",
    "X_train, X_test, y_train, y_test = train_test_split(X, y, random_state=42)\n",
    "\n",
    "# Rescale data\n",
    "X_scaler = MinMaxScaler().fit(X_train)\n",
    "X_train_scaled = X_scaler.transform(X_train)\n",
    "X_test_scaled = X_scaler.transform(X_test)\n",
    "\n",
    "# Retrain model\n",
    "model = LogisticRegression(max_iter=400)\n",
    "model.fit(X_train_scaled, encoded_y_train)"
   ]
  },
  {
   "cell_type": "code",
   "execution_count": 14,
   "metadata": {},
   "outputs": [
    {
     "name": "stdout",
     "output_type": "stream",
     "text": [
      "Training Data Score: 0.8037383177570093\n",
      "Testing Data Score: 0.8032036613272311\n",
      "                precision    recall  f1-score   support\n",
      "\n",
      "     confirmed       0.62      0.48      0.54       411\n",
      "false positive       0.63      0.73      0.68       484\n",
      "     candidate       0.98      1.00      0.99       853\n",
      "\n",
      "      accuracy                           0.80      1748\n",
      "     macro avg       0.74      0.74      0.74      1748\n",
      "  weighted avg       0.80      0.80      0.80      1748\n",
      "\n",
      "First 10 Predictions: ['FALSE POSITIVE' 'CANDIDATE' 'FALSE POSITIVE' 'FALSE POSITIVE'\n",
      " 'FALSE POSITIVE' 'CONFIRMED' 'CONFIRMED' 'CANDIDATE' 'CANDIDATE'\n",
      " 'FALSE POSITIVE']\n",
      "First 10 Actual labels: ['FALSE POSITIVE' 'CANDIDATE' 'FALSE POSITIVE' 'FALSE POSITIVE'\n",
      " 'FALSE POSITIVE' 'CONFIRMED' 'CANDIDATE' 'CANDIDATE' 'CANDIDATE'\n",
      " 'FALSE POSITIVE']\n"
     ]
    }
   ],
   "source": [
    "print(f\"Training Data Score: {model.score(X_train_scaled, encoded_y_train)}\")\n",
    "print(f\"Testing Data Score: {model.score(X_test_scaled, encoded_y_test)}\")\n",
    "\n",
    "from sklearn.metrics import classification_report\n",
    "\n",
    "predictions = model.predict(X_test_scaled)\n",
    "print(classification_report(encoded_y_test, predictions, \n",
    "                            target_names = [\"confirmed\", \"false positive\", \"candidate\"]))\n",
    "\n",
    "print(f\"First 10 Predictions: {label_encoder.inverse_transform(predictions[:10])}\")\n",
    "print(f\"First 10 Actual labels: {label_encoder.inverse_transform(encoded_y_test[:10])}\")"
   ]
  },
  {
   "cell_type": "markdown",
   "metadata": {},
   "source": [
    "## Hyperparameter Tuning\n",
    "\n",
    "Use `GridSearchCV` to tune the model's parameters"
   ]
  },
  {
   "cell_type": "code",
   "execution_count": 15,
   "metadata": {},
   "outputs": [],
   "source": [
    "# Create the GridSearchCV model\n",
    "from sklearn.model_selection import GridSearchCV\n",
    "            \n",
    "param_grid = {'solver': ['newton-cg', 'lbfgs', 'liblinear'], \n",
    "              'penalty': ['l2'], \n",
    "              'C': [100, 10, 1, .01, .001], \n",
    "              'max_iter': [500]}\n",
    "grid = GridSearchCV(model, param_grid, verbose=3)"
   ]
  },
  {
   "cell_type": "code",
   "execution_count": 16,
   "metadata": {},
   "outputs": [
    {
     "name": "stdout",
     "output_type": "stream",
     "text": [
      "Fitting 5 folds for each of 15 candidates, totalling 75 fits\n",
      "[CV 1/5] END C=100, max_iter=500, penalty=l2, solver=newton-cg;, score=0.830 total time=   0.2s\n",
      "[CV 2/5] END C=100, max_iter=500, penalty=l2, solver=newton-cg;, score=0.800 total time=   0.2s\n",
      "[CV 3/5] END C=100, max_iter=500, penalty=l2, solver=newton-cg;, score=0.805 total time=   0.3s\n",
      "[CV 4/5] END C=100, max_iter=500, penalty=l2, solver=newton-cg;, score=0.804 total time=   0.2s\n",
      "[CV 5/5] END C=100, max_iter=500, penalty=l2, solver=newton-cg;, score=0.815 total time=   0.2s\n",
      "[CV 1/5] END C=100, max_iter=500, penalty=l2, solver=lbfgs;, score=0.830 total time=   1.0s\n",
      "[CV 2/5] END C=100, max_iter=500, penalty=l2, solver=lbfgs;, score=0.800 total time=   0.6s\n",
      "[CV 3/5] END C=100, max_iter=500, penalty=l2, solver=lbfgs;, score=0.805 total time=   0.6s\n",
      "[CV 4/5] END C=100, max_iter=500, penalty=l2, solver=lbfgs;, score=0.804 total time=   0.7s\n",
      "[CV 5/5] END C=100, max_iter=500, penalty=l2, solver=lbfgs;, score=0.815 total time=   0.8s\n",
      "[CV 1/5] END C=100, max_iter=500, penalty=l2, solver=liblinear;, score=0.822 total time=   0.0s\n",
      "[CV 2/5] END C=100, max_iter=500, penalty=l2, solver=liblinear;, score=0.797 total time=   0.0s\n",
      "[CV 3/5] END C=100, max_iter=500, penalty=l2, solver=liblinear;, score=0.795 total time=   0.0s\n",
      "[CV 4/5] END C=100, max_iter=500, penalty=l2, solver=liblinear;, score=0.798 total time=   0.0s\n",
      "[CV 5/5] END C=100, max_iter=500, penalty=l2, solver=liblinear;, score=0.810 total time=   0.0s\n",
      "[CV 1/5] END C=10, max_iter=500, penalty=l2, solver=newton-cg;, score=0.823 total time=   0.1s\n",
      "[CV 2/5] END C=10, max_iter=500, penalty=l2, solver=newton-cg;, score=0.797 total time=   0.1s\n",
      "[CV 3/5] END C=10, max_iter=500, penalty=l2, solver=newton-cg;, score=0.800 total time=   0.2s\n",
      "[CV 4/5] END C=10, max_iter=500, penalty=l2, solver=newton-cg;, score=0.802 total time=   0.1s\n",
      "[CV 5/5] END C=10, max_iter=500, penalty=l2, solver=newton-cg;, score=0.811 total time=   0.2s\n",
      "[CV 1/5] END C=10, max_iter=500, penalty=l2, solver=lbfgs;, score=0.823 total time=   0.3s\n",
      "[CV 2/5] END C=10, max_iter=500, penalty=l2, solver=lbfgs;, score=0.797 total time=   0.3s\n",
      "[CV 3/5] END C=10, max_iter=500, penalty=l2, solver=lbfgs;, score=0.800 total time=   0.3s\n",
      "[CV 4/5] END C=10, max_iter=500, penalty=l2, solver=lbfgs;, score=0.802 total time=   0.3s\n",
      "[CV 5/5] END C=10, max_iter=500, penalty=l2, solver=lbfgs;, score=0.811 total time=   0.3s\n",
      "[CV 1/5] END C=10, max_iter=500, penalty=l2, solver=liblinear;, score=0.816 total time=   0.0s\n",
      "[CV 2/5] END C=10, max_iter=500, penalty=l2, solver=liblinear;, score=0.795 total time=   0.0s\n",
      "[CV 3/5] END C=10, max_iter=500, penalty=l2, solver=liblinear;, score=0.797 total time=   0.0s\n",
      "[CV 4/5] END C=10, max_iter=500, penalty=l2, solver=liblinear;, score=0.795 total time=   0.0s\n",
      "[CV 5/5] END C=10, max_iter=500, penalty=l2, solver=liblinear;, score=0.809 total time=   0.0s\n",
      "[CV 1/5] END C=1, max_iter=500, penalty=l2, solver=newton-cg;, score=0.814 total time=   0.1s\n",
      "[CV 2/5] END C=1, max_iter=500, penalty=l2, solver=newton-cg;, score=0.795 total time=   0.1s\n",
      "[CV 3/5] END C=1, max_iter=500, penalty=l2, solver=newton-cg;, score=0.803 total time=   0.1s\n",
      "[CV 4/5] END C=1, max_iter=500, penalty=l2, solver=newton-cg;, score=0.796 total time=   0.1s\n",
      "[CV 5/5] END C=1, max_iter=500, penalty=l2, solver=newton-cg;, score=0.806 total time=   0.1s\n",
      "[CV 1/5] END C=1, max_iter=500, penalty=l2, solver=lbfgs;, score=0.814 total time=   0.1s\n",
      "[CV 2/5] END C=1, max_iter=500, penalty=l2, solver=lbfgs;, score=0.795 total time=   0.0s\n",
      "[CV 3/5] END C=1, max_iter=500, penalty=l2, solver=lbfgs;, score=0.803 total time=   0.1s\n",
      "[CV 4/5] END C=1, max_iter=500, penalty=l2, solver=lbfgs;, score=0.796 total time=   0.1s\n",
      "[CV 5/5] END C=1, max_iter=500, penalty=l2, solver=lbfgs;, score=0.806 total time=   0.1s\n",
      "[CV 1/5] END C=1, max_iter=500, penalty=l2, solver=liblinear;, score=0.806 total time=   0.0s\n",
      "[CV 2/5] END C=1, max_iter=500, penalty=l2, solver=liblinear;, score=0.792 total time=   0.0s\n",
      "[CV 3/5] END C=1, max_iter=500, penalty=l2, solver=liblinear;, score=0.800 total time=   0.0s\n",
      "[CV 4/5] END C=1, max_iter=500, penalty=l2, solver=liblinear;, score=0.787 total time=   0.0s\n",
      "[CV 5/5] END C=1, max_iter=500, penalty=l2, solver=liblinear;, score=0.798 total time=   0.0s\n",
      "[CV 1/5] END C=0.01, max_iter=500, penalty=l2, solver=newton-cg;, score=0.786 total time=   0.0s\n",
      "[CV 2/5] END C=0.01, max_iter=500, penalty=l2, solver=newton-cg;, score=0.785 total time=   0.0s\n",
      "[CV 3/5] END C=0.01, max_iter=500, penalty=l2, solver=newton-cg;, score=0.771 total time=   0.0s\n",
      "[CV 4/5] END C=0.01, max_iter=500, penalty=l2, solver=newton-cg;, score=0.783 total time=   0.0s\n",
      "[CV 5/5] END C=0.01, max_iter=500, penalty=l2, solver=newton-cg;, score=0.787 total time=   0.0s\n",
      "[CV 1/5] END C=0.01, max_iter=500, penalty=l2, solver=lbfgs;, score=0.786 total time=   0.0s\n",
      "[CV 2/5] END C=0.01, max_iter=500, penalty=l2, solver=lbfgs;, score=0.785 total time=   0.0s\n",
      "[CV 3/5] END C=0.01, max_iter=500, penalty=l2, solver=lbfgs;, score=0.771 total time=   0.0s\n",
      "[CV 4/5] END C=0.01, max_iter=500, penalty=l2, solver=lbfgs;, score=0.783 total time=   0.0s\n",
      "[CV 5/5] END C=0.01, max_iter=500, penalty=l2, solver=lbfgs;, score=0.787 total time=   0.0s\n",
      "[CV 1/5] END C=0.01, max_iter=500, penalty=l2, solver=liblinear;, score=0.788 total time=   0.0s\n",
      "[CV 2/5] END C=0.01, max_iter=500, penalty=l2, solver=liblinear;, score=0.788 total time=   0.0s\n",
      "[CV 3/5] END C=0.01, max_iter=500, penalty=l2, solver=liblinear;, score=0.772 total time=   0.0s\n",
      "[CV 4/5] END C=0.01, max_iter=500, penalty=l2, solver=liblinear;, score=0.780 total time=   0.0s\n",
      "[CV 5/5] END C=0.01, max_iter=500, penalty=l2, solver=liblinear;, score=0.787 total time=   0.0s\n",
      "[CV 1/5] END C=0.001, max_iter=500, penalty=l2, solver=newton-cg;, score=0.505 total time=   0.0s\n",
      "[CV 2/5] END C=0.001, max_iter=500, penalty=l2, solver=newton-cg;, score=0.506 total time=   0.0s\n",
      "[CV 3/5] END C=0.001, max_iter=500, penalty=l2, solver=newton-cg;, score=0.505 total time=   0.0s\n",
      "[CV 4/5] END C=0.001, max_iter=500, penalty=l2, solver=newton-cg;, score=0.506 total time=   0.0s\n",
      "[CV 5/5] END C=0.001, max_iter=500, penalty=l2, solver=newton-cg;, score=0.506 total time=   0.0s\n",
      "[CV 1/5] END C=0.001, max_iter=500, penalty=l2, solver=lbfgs;, score=0.505 total time=   0.0s\n",
      "[CV 2/5] END C=0.001, max_iter=500, penalty=l2, solver=lbfgs;, score=0.506 total time=   0.0s\n",
      "[CV 3/5] END C=0.001, max_iter=500, penalty=l2, solver=lbfgs;, score=0.505 total time=   0.0s\n",
      "[CV 4/5] END C=0.001, max_iter=500, penalty=l2, solver=lbfgs;, score=0.506 total time=   0.0s\n",
      "[CV 5/5] END C=0.001, max_iter=500, penalty=l2, solver=lbfgs;, score=0.506 total time=   0.0s\n",
      "[CV 1/5] END C=0.001, max_iter=500, penalty=l2, solver=liblinear;, score=0.505 total time=   0.0s\n",
      "[CV 2/5] END C=0.001, max_iter=500, penalty=l2, solver=liblinear;, score=0.506 total time=   0.0s\n",
      "[CV 3/5] END C=0.001, max_iter=500, penalty=l2, solver=liblinear;, score=0.505 total time=   0.0s\n",
      "[CV 4/5] END C=0.001, max_iter=500, penalty=l2, solver=liblinear;, score=0.506 total time=   0.0s\n",
      "[CV 5/5] END C=0.001, max_iter=500, penalty=l2, solver=liblinear;, score=0.506 total time=   0.0s\n"
     ]
    },
    {
     "data": {
      "text/plain": [
       "GridSearchCV(estimator=LogisticRegression(max_iter=400),\n",
       "             param_grid={'C': [100, 10, 1, 0.01, 0.001], 'max_iter': [500],\n",
       "                         'penalty': ['l2'],\n",
       "                         'solver': ['newton-cg', 'lbfgs', 'liblinear']},\n",
       "             verbose=3)"
      ]
     },
     "execution_count": 16,
     "metadata": {},
     "output_type": "execute_result"
    }
   ],
   "source": [
    "# Train the model with GridSearch\n",
    "grid.fit(X_train_scaled, encoded_y_train)"
   ]
  },
  {
   "cell_type": "code",
   "execution_count": 17,
   "metadata": {},
   "outputs": [
    {
     "name": "stdout",
     "output_type": "stream",
     "text": [
      "{'C': 100, 'max_iter': 500, 'penalty': 'l2', 'solver': 'newton-cg'}\n",
      "0.8107949046347303\n"
     ]
    }
   ],
   "source": [
    "print(grid.best_params_)\n",
    "print(grid.best_score_)"
   ]
  },
  {
   "cell_type": "code",
   "execution_count": 18,
   "metadata": {},
   "outputs": [
    {
     "name": "stdout",
     "output_type": "stream",
     "text": [
      "                precision    recall  f1-score   support\n",
      "\n",
      "     confirmed       0.61      0.55      0.58       411\n",
      "false positive       0.65      0.69      0.67       484\n",
      "     candidate       0.98      1.00      0.99       853\n",
      "\n",
      "      accuracy                           0.81      1748\n",
      "     macro avg       0.75      0.74      0.74      1748\n",
      "  weighted avg       0.80      0.81      0.80      1748\n",
      "\n"
     ]
    }
   ],
   "source": [
    "# Make predictions with hypertuned model\n",
    "predictions = grid.predict(X_test_scaled)\n",
    "print(classification_report(encoded_y_test, predictions, \n",
    "                            target_names = [\"confirmed\", \"false positive\", \"candidate\"]))"
   ]
  },
  {
   "cell_type": "markdown",
   "metadata": {},
   "source": [
    "# Save the Model"
   ]
  },
  {
   "cell_type": "code",
   "execution_count": 19,
   "metadata": {},
   "outputs": [],
   "source": [
    "# save your model by updating \"your_name\" with your name\n",
    "# and \"your_model\" with your model variable\n",
    "# be sure to turn this in to BCS\n",
    "# if joblib fails to import, try running the command to install in terminal/git-bash\n",
    "#import joblib\n",
    "#filename = 'LogisticRegression.sav'\n",
    "#joblib.dump(model, filename)"
   ]
  }
 ],
 "metadata": {
  "kernel_info": {
   "name": "dev"
  },
  "kernelspec": {
   "display_name": "Python [conda env:PythonAdv]",
   "language": "python",
   "name": "conda-env-PythonAdv-py"
  },
  "language_info": {
   "codemirror_mode": {
    "name": "ipython",
    "version": 3
   },
   "file_extension": ".py",
   "mimetype": "text/x-python",
   "name": "python",
   "nbconvert_exporter": "python",
   "pygments_lexer": "ipython3",
   "version": "3.6.13"
  },
  "nteract": {
   "version": "0.12.3"
  }
 },
 "nbformat": 4,
 "nbformat_minor": 2
}
